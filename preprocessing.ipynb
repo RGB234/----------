{
 "cells": [
  {
   "cell_type": "code",
   "execution_count": 2,
   "metadata": {},
   "outputs": [],
   "source": [
    "import numpy\n",
    "import pandas as pd"
   ]
  },
  {
   "cell_type": "code",
   "execution_count": 3,
   "metadata": {},
   "outputs": [],
   "source": [
    "df = pd.read_csv('raw_data.csv', encoding='utf-8-sig')"
   ]
  },
  {
   "cell_type": "code",
   "execution_count": 13,
   "metadata": {},
   "outputs": [
    {
     "data": {
      "text/plain": [
       "'1000대-현대자동차그룹-안정적인 장수 회사-성장판 열린 회사-구직자 인기기업-매출 1조 클럽-HOT한 인기기업-평균연봉 6천이상----'"
      ]
     },
     "execution_count": 13,
     "metadata": {},
     "output_type": "execute_result"
    }
   ],
   "source": [
    "# 행 번호 삭제\n",
    "df.drop(df.columns[0], axis=1)"
   ]
  },
  {
   "cell_type": "code",
   "execution_count": 19,
   "metadata": {},
   "outputs": [
    {
     "name": "stdout",
     "output_type": "stream",
     "text": [
      "['1000대', '현대자동차그룹', '안정적인 장수 회사', '성장판 열린 회사', '구직자 인기기업', '매출 1조 클럽', 'HOT한 인기기업', '평균연봉 6천이상', '', '', '', '']\n",
      "-> 8\n"
     ]
    }
   ],
   "source": [
    "tmp = str(df['pros'][5])\n",
    "list = tmp.split('-')\n",
    "list\n",
    "count = 0\n",
    "for elem in list:\n",
    "    if elem != '':\n",
    "        count+=1\n",
    "print(list)\n",
    "print(\"-> \" + str(count))"
   ]
  }
 ],
 "metadata": {
  "kernelspec": {
   "display_name": "myvenv",
   "language": "python",
   "name": "python3"
  },
  "language_info": {
   "codemirror_mode": {
    "name": "ipython",
    "version": 3
   },
   "file_extension": ".py",
   "mimetype": "text/x-python",
   "name": "python",
   "nbconvert_exporter": "python",
   "pygments_lexer": "ipython3",
   "version": "3.11.5"
  }
 },
 "nbformat": 4,
 "nbformat_minor": 2
}

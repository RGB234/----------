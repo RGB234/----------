{
 "cells": [
  {
   "cell_type": "code",
   "execution_count": 2,
   "metadata": {},
   "outputs": [],
   "source": [
    "import pandas as pd"
   ]
  },
  {
   "cell_type": "code",
   "execution_count": 3,
   "metadata": {},
   "outputs": [
    {
     "data": {
      "text/html": [
       "<div>\n",
       "<style scoped>\n",
       "    .dataframe tbody tr th:only-of-type {\n",
       "        vertical-align: middle;\n",
       "    }\n",
       "\n",
       "    .dataframe tbody tr th {\n",
       "        vertical-align: top;\n",
       "    }\n",
       "\n",
       "    .dataframe thead th {\n",
       "        text-align: right;\n",
       "    }\n",
       "</style>\n",
       "<table border=\"1\" class=\"dataframe\">\n",
       "  <thead>\n",
       "    <tr style=\"text-align: right;\">\n",
       "      <th></th>\n",
       "      <th>region</th>\n",
       "      <th>education</th>\n",
       "      <th>jobtype</th>\n",
       "      <th>cptype</th>\n",
       "      <th>sales</th>\n",
       "      <th>employees</th>\n",
       "      <th>aversalary</th>\n",
       "      <th>capital</th>\n",
       "      <th>pros</th>\n",
       "    </tr>\n",
       "  </thead>\n",
       "  <tbody>\n",
       "    <tr>\n",
       "      <th>0</th>\n",
       "      <td>서울</td>\n",
       "      <td>4</td>\n",
       "      <td>3</td>\n",
       "      <td>2</td>\n",
       "      <td>180908204</td>\n",
       "      <td>2,036</td>\n",
       "      <td>9516</td>\n",
       "      <td>7781959</td>\n",
       "      <td>안정적인 장수 회사-성장판 열린 회사-구직자 인기기업-복지의 끝판왕-매출 1조 클럽...</td>\n",
       "    </tr>\n",
       "    <tr>\n",
       "      <th>1</th>\n",
       "      <td>서울</td>\n",
       "      <td>4</td>\n",
       "      <td>3</td>\n",
       "      <td>3</td>\n",
       "      <td>60628188</td>\n",
       "      <td>5,415</td>\n",
       "      <td>2858</td>\n",
       "      <td>1297880</td>\n",
       "      <td>성장판 열린 회사-복지의 끝판왕-HOT한 인기기업-보너스로 행복해요♥-장기근속수당제...</td>\n",
       "    </tr>\n",
       "    <tr>\n",
       "      <th>2</th>\n",
       "      <td>서울</td>\n",
       "      <td>4</td>\n",
       "      <td>1</td>\n",
       "      <td>3</td>\n",
       "      <td>60628188</td>\n",
       "      <td>5,415</td>\n",
       "      <td>-</td>\n",
       "      <td>1297880</td>\n",
       "      <td>안정적인 장수 회사-성장판 열린 회사-구직자 인기기업-채용에 적극적인 회사-복지의 ...</td>\n",
       "    </tr>\n",
       "    <tr>\n",
       "      <th>3</th>\n",
       "      <td>서울</td>\n",
       "      <td>0</td>\n",
       "      <td>1</td>\n",
       "      <td>3</td>\n",
       "      <td>60628188</td>\n",
       "      <td>5,415</td>\n",
       "      <td>-</td>\n",
       "      <td>1297880</td>\n",
       "      <td>성장판 열린 회사-구직자 인기기업-채용에 적극적인 회사-매출 1조 클럽-HOT한 인...</td>\n",
       "    </tr>\n",
       "    <tr>\n",
       "      <th>4</th>\n",
       "      <td>서울</td>\n",
       "      <td>0</td>\n",
       "      <td>3</td>\n",
       "      <td>3</td>\n",
       "      <td>32879127</td>\n",
       "      <td>3,241</td>\n",
       "      <td>5739</td>\n",
       "      <td>208129</td>\n",
       "      <td>성장판 열린 회사-채용에 적극적인 회사-HOT한 인기기업-지방에 위치한 대기업</td>\n",
       "    </tr>\n",
       "  </tbody>\n",
       "</table>\n",
       "</div>"
      ],
      "text/plain": [
       "  region  education  jobtype  cptype      sales employees aversalary  capital  \\\n",
       "0     서울          4        3       2  180908204     2,036       9516  7781959   \n",
       "1     서울          4        3       3   60628188     5,415       2858  1297880   \n",
       "2     서울          4        1       3   60628188     5,415          -  1297880   \n",
       "3     서울          0        1       3   60628188     5,415          -  1297880   \n",
       "4     서울          0        3       3   32879127     3,241       5739   208129   \n",
       "\n",
       "                                                pros  \n",
       "0  안정적인 장수 회사-성장판 열린 회사-구직자 인기기업-복지의 끝판왕-매출 1조 클럽...  \n",
       "1  성장판 열린 회사-복지의 끝판왕-HOT한 인기기업-보너스로 행복해요♥-장기근속수당제...  \n",
       "2  안정적인 장수 회사-성장판 열린 회사-구직자 인기기업-채용에 적극적인 회사-복지의 ...  \n",
       "3  성장판 열린 회사-구직자 인기기업-채용에 적극적인 회사-매출 1조 클럽-HOT한 인...  \n",
       "4        성장판 열린 회사-채용에 적극적인 회사-HOT한 인기기업-지방에 위치한 대기업  "
      ]
     },
     "execution_count": 3,
     "metadata": {},
     "output_type": "execute_result"
    }
   ],
   "source": [
    "df = pd.read_csv('raw_data2.csv', encoding='utf-8-sig', index_col=0)\n",
    "df.head()"
   ]
  },
  {
   "cell_type": "code",
   "execution_count": 4,
   "metadata": {},
   "outputs": [
    {
     "data": {
      "text/plain": [
       "{'안정적인 장수 회사': 5,\n",
       " '성장판 열린 회사': 3,\n",
       " '구직자 인기기업': 5,\n",
       " '채용에 적극적인 회사': 3,\n",
       " '복지의 끝판왕': 1,\n",
       " '매출 1조 클럽': 5,\n",
       " '매출 상위 10%': 5,\n",
       " 'HOT한 인기기업': 5,\n",
       " '아침을 왜 굶어요?': 1,\n",
       " '평균연봉 6천이상': 3,\n",
       " '신입연봉이 4천이상': 3,\n",
       " '스타트업 초봉 3,500만원↗': 3,\n",
       " '지방에 위치한 대기업': 5,\n",
       " '자기계발비 지원 기업': 1,\n",
       " '보너스로 행복해요♥': 1,\n",
       " '내 출퇴근은 내 맘대로': 1,\n",
       " '아낌없이 주는 커피': 1,\n",
       " '아이와 함께 출근해요': 1,\n",
       " '잘나가는 의료·바이오기업': 5,\n",
       " '주 4일 근무': 3,\n",
       " '집 걱정 안 하기': 3,\n",
       " '거침없이 성장하는 회사': 3,\n",
       " '매출 1000대 기업': 5,\n",
       " '인크루트 인증 우수기업': 3,\n",
       " '대기업 in 서울': 5,\n",
       " '공기업 in 서울': 5,\n",
       " '장기근속수당제공 기업': 3,\n",
       " '육아휴직 제공 기업': 1,\n",
       " 'KOSPI 상장': 5,\n",
       " 'KOSDAQ 상장': 5,\n",
       " '빵빵한 구내식당': 1,\n",
       " '휴식까지 챙겨줘요!': 1,\n",
       " 'KONEX 상장': 3}"
      ]
     },
     "execution_count": 4,
     "metadata": {},
     "output_type": "execute_result"
    }
   ],
   "source": [
    "tags_encoded = pd.read_csv('tags_encoded.csv', encoding='utf-8-sig', index_col=0)\n",
    "# tags_encoded.head()\n",
    "tags_score = dict(zip(tags_encoded['tags'], tags_encoded['score']))\n",
    "tags_score"
   ]
  },
  {
   "cell_type": "code",
   "execution_count": 5,
   "metadata": {},
   "outputs": [
    {
     "data": {
      "text/plain": [
       "0      50.0\n",
       "1      18.0\n",
       "2      49.0\n",
       "3      29.0\n",
       "4      16.0\n",
       "       ... \n",
       "165    28.0\n",
       "166    36.0\n",
       "167    36.0\n",
       "168    36.0\n",
       "169    36.0\n",
       "Name: pros_encoded, Length: 170, dtype: float64"
      ]
     },
     "execution_count": 5,
     "metadata": {},
     "output_type": "execute_result"
    }
   ],
   "source": [
    "def encodeTagsByScore(tags: str):\n",
    "    if isinstance(tags, float): return tags\n",
    "    total_score = 0\n",
    "    for tag in tags.split('-'):\n",
    "        if tag !=  '':\n",
    "            total_score += tags_score[tag]\n",
    "    return total_score\n",
    "\n",
    "df['pros_encoded'] = df['pros'].apply(encodeTagsByScore)\n",
    "df['pros_encoded']\n",
    "# df.head()"
   ]
  },
  {
   "cell_type": "code",
   "execution_count": 9,
   "metadata": {},
   "outputs": [],
   "source": [
    "df_baseline = df.drop(columns=['pros'])\n",
    "df_baseline.to_csv('data_baseline.csv', encoding='utf-8-sig')"
   ]
  },
  {
   "cell_type": "markdown",
   "metadata": {},
   "source": [
    "### Data_basetline.csv\n",
    "해야 될 전처리 작업들\n",
    "- 결측값 처리 (회사 연 매출, 근로자수, 평균월급 회사자본금)  \n",
    "sol1 -  결측값 전부 drop, 크롤링하는 데이터 양을 늘려서 해결  \n",
    "sol2 - 결측값 존재시 drop 처리할 피쳐 선별.  \n",
    "클러스터링 : sol1 우선 적용. 상황에 따라 sol2 또한 시도  \n",
    "회귀 : sol1 적용.  \n",
    "\n",
    "- region 범주형 데이터 처리  \n",
    "클러스터링 :  수도권, 수도권외 광역시, 그 외 지방 지역으로 묶어서 라벨인코딩  \n",
    "회귀 :  수도권, 중부, 남부 지역으로 묶어서 라벨인코딩 후 원 핫 인코딩  \n",
    "\n",
    "- 각종 피쳐들 스케일링\n",
    "\n",
    "### 전처리 작업 순서\n",
    "\n",
    "결측값 처리 (sol1) -> 피쳐 스케일링 -> region 인코딩  "
   ]
  },
  {
   "cell_type": "markdown",
   "metadata": {},
   "source": []
  }
 ],
 "metadata": {
  "kernelspec": {
   "display_name": "base",
   "language": "python",
   "name": "python3"
  },
  "language_info": {
   "codemirror_mode": {
    "name": "ipython",
    "version": 3
   },
   "file_extension": ".py",
   "mimetype": "text/x-python",
   "name": "python",
   "nbconvert_exporter": "python",
   "pygments_lexer": "ipython3",
   "version": "3.11.5"
  }
 },
 "nbformat": 4,
 "nbformat_minor": 2
}

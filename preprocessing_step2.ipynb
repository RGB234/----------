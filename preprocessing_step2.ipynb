{
 "cells": [
  {
   "cell_type": "code",
   "execution_count": 2,
   "metadata": {},
   "outputs": [],
   "source": [
    "import pandas as pd"
   ]
  },
  {
   "cell_type": "code",
   "execution_count": 3,
   "metadata": {},
   "outputs": [
    {
     "data": {
      "text/html": [
       "<div>\n",
       "<style scoped>\n",
       "    .dataframe tbody tr th:only-of-type {\n",
       "        vertical-align: middle;\n",
       "    }\n",
       "\n",
       "    .dataframe tbody tr th {\n",
       "        vertical-align: top;\n",
       "    }\n",
       "\n",
       "    .dataframe thead th {\n",
       "        text-align: right;\n",
       "    }\n",
       "</style>\n",
       "<table border=\"1\" class=\"dataframe\">\n",
       "  <thead>\n",
       "    <tr style=\"text-align: right;\">\n",
       "      <th></th>\n",
       "      <th>region</th>\n",
       "      <th>education</th>\n",
       "      <th>jobtype</th>\n",
       "      <th>cptype</th>\n",
       "      <th>sales</th>\n",
       "      <th>employees</th>\n",
       "      <th>aversalary</th>\n",
       "      <th>capital</th>\n",
       "      <th>pros</th>\n",
       "    </tr>\n",
       "  </thead>\n",
       "  <tbody>\n",
       "    <tr>\n",
       "      <th>0</th>\n",
       "      <td>서울</td>\n",
       "      <td>4</td>\n",
       "      <td>3</td>\n",
       "      <td>2</td>\n",
       "      <td>180908204</td>\n",
       "      <td>2,036</td>\n",
       "      <td>9516</td>\n",
       "      <td>7781959</td>\n",
       "      <td>안정적인 장수 회사-성장판 열린 회사-구직자 인기기업-복지의 끝판왕-매출 1조 클럽...</td>\n",
       "    </tr>\n",
       "    <tr>\n",
       "      <th>1</th>\n",
       "      <td>서울</td>\n",
       "      <td>4</td>\n",
       "      <td>3</td>\n",
       "      <td>3</td>\n",
       "      <td>60628188</td>\n",
       "      <td>5,415</td>\n",
       "      <td>2858</td>\n",
       "      <td>1297880</td>\n",
       "      <td>성장판 열린 회사-복지의 끝판왕-HOT한 인기기업-보너스로 행복해요♥-장기근속수당제...</td>\n",
       "    </tr>\n",
       "    <tr>\n",
       "      <th>2</th>\n",
       "      <td>서울</td>\n",
       "      <td>4</td>\n",
       "      <td>1</td>\n",
       "      <td>3</td>\n",
       "      <td>60628188</td>\n",
       "      <td>5,415</td>\n",
       "      <td>-</td>\n",
       "      <td>1297880</td>\n",
       "      <td>안정적인 장수 회사-성장판 열린 회사-구직자 인기기업-채용에 적극적인 회사-복지의 ...</td>\n",
       "    </tr>\n",
       "    <tr>\n",
       "      <th>3</th>\n",
       "      <td>서울</td>\n",
       "      <td>0</td>\n",
       "      <td>1</td>\n",
       "      <td>3</td>\n",
       "      <td>60628188</td>\n",
       "      <td>5,415</td>\n",
       "      <td>-</td>\n",
       "      <td>1297880</td>\n",
       "      <td>성장판 열린 회사-구직자 인기기업-채용에 적극적인 회사-매출 1조 클럽-HOT한 인...</td>\n",
       "    </tr>\n",
       "    <tr>\n",
       "      <th>4</th>\n",
       "      <td>서울</td>\n",
       "      <td>0</td>\n",
       "      <td>3</td>\n",
       "      <td>3</td>\n",
       "      <td>32879127</td>\n",
       "      <td>3,241</td>\n",
       "      <td>5739</td>\n",
       "      <td>208129</td>\n",
       "      <td>성장판 열린 회사-채용에 적극적인 회사-HOT한 인기기업-지방에 위치한 대기업</td>\n",
       "    </tr>\n",
       "  </tbody>\n",
       "</table>\n",
       "</div>"
      ],
      "text/plain": [
       "  region  education  jobtype  cptype      sales employees aversalary  capital  \\\n",
       "0     서울          4        3       2  180908204     2,036       9516  7781959   \n",
       "1     서울          4        3       3   60628188     5,415       2858  1297880   \n",
       "2     서울          4        1       3   60628188     5,415          -  1297880   \n",
       "3     서울          0        1       3   60628188     5,415          -  1297880   \n",
       "4     서울          0        3       3   32879127     3,241       5739   208129   \n",
       "\n",
       "                                                pros  \n",
       "0  안정적인 장수 회사-성장판 열린 회사-구직자 인기기업-복지의 끝판왕-매출 1조 클럽...  \n",
       "1  성장판 열린 회사-복지의 끝판왕-HOT한 인기기업-보너스로 행복해요♥-장기근속수당제...  \n",
       "2  안정적인 장수 회사-성장판 열린 회사-구직자 인기기업-채용에 적극적인 회사-복지의 ...  \n",
       "3  성장판 열린 회사-구직자 인기기업-채용에 적극적인 회사-매출 1조 클럽-HOT한 인...  \n",
       "4        성장판 열린 회사-채용에 적극적인 회사-HOT한 인기기업-지방에 위치한 대기업  "
      ]
     },
     "execution_count": 3,
     "metadata": {},
     "output_type": "execute_result"
    }
   ],
   "source": [
    "df = pd.read_csv('raw_data2.csv', encoding='utf-8-sig', index_col=0)\n",
    "df.head()"
   ]
  },
  {
   "cell_type": "code",
   "execution_count": 4,
   "metadata": {},
   "outputs": [
    {
     "data": {
      "text/plain": [
       "{'안정적인 장수 회사': 5,\n",
       " '성장판 열린 회사': 3,\n",
       " '구직자 인기기업': 5,\n",
       " '채용에 적극적인 회사': 3,\n",
       " '복지의 끝판왕': 1,\n",
       " '매출 1조 클럽': 5,\n",
       " '매출 상위 10%': 5,\n",
       " 'HOT한 인기기업': 5,\n",
       " '아침을 왜 굶어요?': 1,\n",
       " '평균연봉 6천이상': 3,\n",
       " '신입연봉이 4천이상': 3,\n",
       " '스타트업 초봉 3,500만원↗': 3,\n",
       " '지방에 위치한 대기업': 5,\n",
       " '자기계발비 지원 기업': 1,\n",
       " '보너스로 행복해요♥': 1,\n",
       " '내 출퇴근은 내 맘대로': 1,\n",
       " '아낌없이 주는 커피': 1,\n",
       " '아이와 함께 출근해요': 1,\n",
       " '잘나가는 의료·바이오기업': 5,\n",
       " '주 4일 근무': 3,\n",
       " '집 걱정 안 하기': 3,\n",
       " '거침없이 성장하는 회사': 3,\n",
       " '매출 1000대 기업': 5,\n",
       " '인크루트 인증 우수기업': 3,\n",
       " '대기업 in 서울': 5,\n",
       " '공기업 in 서울': 5,\n",
       " '장기근속수당제공 기업': 3,\n",
       " '육아휴직 제공 기업': 1,\n",
       " 'KOSPI 상장': 5,\n",
       " 'KOSDAQ 상장': 5,\n",
       " '빵빵한 구내식당': 1,\n",
       " '휴식까지 챙겨줘요!': 1,\n",
       " 'KONEX 상장': 3}"
      ]
     },
     "execution_count": 4,
     "metadata": {},
     "output_type": "execute_result"
    }
   ],
   "source": [
    "tags_encoded = pd.read_csv('tags_encoded.csv', encoding='utf-8-sig', index_col=0)\n",
    "# tags_encoded.head()\n",
    "tags_score = dict(zip(tags_encoded['tags'], tags_encoded['score']))\n",
    "tags_score"
   ]
  },
  {
   "cell_type": "code",
   "execution_count": 5,
   "metadata": {},
   "outputs": [
    {
     "data": {
      "text/plain": [
       "0      50.0\n",
       "1      18.0\n",
       "2      49.0\n",
       "3      29.0\n",
       "4      16.0\n",
       "       ... \n",
       "165    28.0\n",
       "166    36.0\n",
       "167    36.0\n",
       "168    36.0\n",
       "169    36.0\n",
       "Name: pros_encoded, Length: 170, dtype: float64"
      ]
     },
     "execution_count": 5,
     "metadata": {},
     "output_type": "execute_result"
    }
   ],
   "source": [
    "def encodeTagsByScore(tags: str):\n",
    "    if isinstance(tags, float): return tags\n",
    "    total_score = 0\n",
    "    for tag in tags.split('-'):\n",
    "        if tag !=  '':\n",
    "            total_score += tags_score[tag]\n",
    "    return total_score\n",
    "\n",
    "df['pros_encoded'] = df['pros'].apply(encodeTagsByScore)\n",
    "df['pros_encoded']\n",
    "# df.head()"
   ]
  },
  {
   "cell_type": "code",
   "execution_count": 9,
   "metadata": {},
   "outputs": [],
   "source": [
    "df_baseline = df.drop(columns=['pros'])\n",
    "df_baseline.to_csv('data_baseline.csv', encoding='utf-8-sig')"
   ]
  },
  {
   "cell_type": "markdown",
   "metadata": {},
   "source": [
    "### Data_basetline.csv\n",
    "해야 될 전처리 작업들\n",
    "- 결측값 처리 (회사 연 매출, 근로자수, 평균월급 회사자본금)  \n",
    "중소기업에 유난히 결측값이 많은 것 같아서 결측값을 그대로 두는 방향으로 생각중.\n",
    "\n",
    "클러스터링 : 결측값 처리 안해도 무관\n",
    "회귀 : xgboost classifier -> decision tree 기반이므로 결측값 처리 안해도 무관\n",
    "\n",
    "- region 범주형 데이터 처리  \n",
    "수도권, 수도권외 광역시, 그 외 지방 지역으로 묶은 후 원-핫 인코딩 \n",
    "\n",
    "- 각종 피쳐들 스케일링\n",
    "\n",
    "### 전처리 작업 순서\n",
    "\n",
    "결측값 처리 -> 피쳐 스케일링 -> region 인코딩  "
   ]
  },
  {
   "cell_type": "code",
   "execution_count": 9,
   "metadata": {},
   "outputs": [
    {
     "name": "stdout",
     "output_type": "stream",
     "text": [
      "Unnamed: 0    False\n",
      "region        False\n",
      "cpname        False\n",
      "title         False\n",
      "career        False\n",
      "education     False\n",
      "jobtype       False\n",
      "cptype        False\n",
      "sales         False\n",
      "employees     False\n",
      "aversalary    False\n",
      "capital       False\n",
      "pros          False\n",
      "dtype: bool\n"
     ]
    },
    {
     "data": {
      "text/plain": [
       "<bound method DataFrame.info of      Unnamed: 0 region                             cpname  \\\n",
       "0             0     서울                            (주)유한양행   \n",
       "1             1     서울                               공군본부   \n",
       "2             2     서울                           국민건강보험공단   \n",
       "3             3     서울                        신용협동조합 공동채용   \n",
       "4             4     서울                           코레일테크(주)   \n",
       "..          ...    ...                                ...   \n",
       "332         332     부산                          삼성생명보험(주)   \n",
       "333         333     부산                          삼성생명보험(주)   \n",
       "334         334     부산                          한국환경기계(주)   \n",
       "338         338     부산  주식회사 라이프워시퍼 (LIFE WORSHIPER Inc.)   \n",
       "339         339     부산                           (주)코디하우스   \n",
       "\n",
       "                                               title       career education  \\\n",
       "0                                   2024 각 부문별 사원 모집     신입/경력1년↑      대졸이상   \n",
       "1                  2024년도 공군 주관 일반군무원&장애인 구분모집 채용 공고  신입/경력(연차무관)      학력무관   \n",
       "2                         2024년도 국민건강보험공단 청년인턴 채용 공고  신입/경력(연차무관)      학력무관   \n",
       "3                      2024년 상반기 신용협동조합 신입직원 공동채용 공고           신입      학력무관   \n",
       "4                        2024년 하반기 공무직사원 공개경쟁채용 모집공고  신입/경력(연차무관)      학력무관   \n",
       "..                                               ...          ...       ...   \n",
       "332                       [GFC사업부]기업 경영지원/법인 컨설턴트 채용     경력(연차무관)      학력무관   \n",
       "333                       기업 경영지원/법인 컨설턴트(토탈 마케팅) 채용     경력(연차무관)      고졸이상   \n",
       "334                        기계설계, 재고관리 외 신입/경력 정규직 채용     경력(연차무관)      학력무관   \n",
       "338  부산 사상/중앙동지점 국제 NGO기구 이벤트/ 마케팅/ 홍보 함께 할 STAFF 채용  신입/경력(연차무관)      학력무관   \n",
       "339                    [VMD] - 부산(경남권) 라운딩 VMD/코디네이터  신입/경력(연차무관)      학력무관   \n",
       "\n",
       "    jobtype cptype                      sales     employees      aversalary  \\\n",
       "0       정규직   중견기업   1조 8,090억 8,204만원 (2023)   2,036 명 재직중  9,516만원\\n자세히보기   \n",
       "1       정규직    중기업                          -             -               -   \n",
       "2        인턴    중기업   113조 7,600억 976만원 (2022)  15,761 명 재직중  6,176만원\\n자세히보기   \n",
       "3       정규직   중견기업         25조 4,700억원 (2022)  18,000 명 재직중               -   \n",
       "4       계약직   중소기업      2,463억 6,017만원 (2023)   5,624 명 재직중  4,166만원\\n자세히보기   \n",
       "..      ...    ...                        ...           ...             ...   \n",
       "332     위촉직    대기업  25조 6,952억 3,300만원 (2010)  30,000 명 재직중               -   \n",
       "333     위촉직    대기업  25조 6,952억 3,300만원 (2010)  30,000 명 재직중               -   \n",
       "334     정규직   중소기업         22억 1,117만원 (2023)      16 명 재직중  3,987만원\\n자세히보기   \n",
       "338    위촉직외   중소기업                35억원 (2018)     135 명 재직중               -   \n",
       "339     정규직   중소기업                          -      16 명 재직중               -   \n",
       "\n",
       "          capital                                               pros  \n",
       "0    778억 1,959만원  안정적인 장수 회사-성장판 열린 회사-구직자 인기기업-복지의 끝판왕-매출 1조 클럽...  \n",
       "1               -                  구직자 인기기업-채용에 적극적인 회사-인크루트 인증 우수기업  \n",
       "2               -  성장판 열린 회사-구직자 인기기업-채용에 적극적인 회사-매출 1조 클럽-HOT한 인...  \n",
       "3               -          안정적인 장수 회사-구직자 인기기업-채용에 적극적인 회사-HOT한 인기기업  \n",
       "4       19억 400만원  성장판 열린 회사-구직자 인기기업-채용에 적극적인 회사-HOT한 인기기업-인크루트 ...  \n",
       "..            ...                                                ...  \n",
       "332       1,000억원  안정적인 장수 회사-구직자 인기기업-채용에 적극적인 회사-대기업 in 서울-KOSP...  \n",
       "333       1,000억원  안정적인 장수 회사-구직자 인기기업-채용에 적극적인 회사-대기업 in 서울-KOSP...  \n",
       "334    2억 5,000만원                            안정적인 장수 회사-인크루트 인증 우수기업  \n",
       "338       1,000만원                      복지의 끝판왕-보너스로 행복해요♥-육아휴직 제공 기업  \n",
       "339             -                                         보너스로 행복해요♥  \n",
       "\n",
       "[305 rows x 13 columns]>"
      ]
     },
     "execution_count": 9,
     "metadata": {},
     "output_type": "execute_result"
    }
   ],
   "source": [
    "df_temp = pd.read_csv('raw_data_temp-서울2부산340.csv', encoding='utf-8-sig')\n",
    "df_temp = df_temp.dropna()\n",
    "print(df_temp.isna().any())\n",
    "df_temp.info\n"
   ]
  },
  {
   "cell_type": "markdown",
   "metadata": {},
   "source": []
  }
 ],
 "metadata": {
  "kernelspec": {
   "display_name": "base",
   "language": "python",
   "name": "python3"
  },
  "language_info": {
   "codemirror_mode": {
    "name": "ipython",
    "version": 3
   },
   "file_extension": ".py",
   "mimetype": "text/x-python",
   "name": "python",
   "nbconvert_exporter": "python",
   "pygments_lexer": "ipython3",
   "version": "3.11.5"
  }
 },
 "nbformat": 4,
 "nbformat_minor": 2
}

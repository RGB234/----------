{
 "cells": [
  {
   "cell_type": "code",
   "execution_count": 1,
   "metadata": {},
   "outputs": [],
   "source": [
    "import pandas as pd\n",
    "import numpy as np\n",
    "from sklearn.preprocessing import StandardScaler, MinMaxScaler, RobustScaler"
   ]
  },
  {
   "cell_type": "code",
   "execution_count": 5,
   "metadata": {},
   "outputs": [
    {
     "name": "stdout",
     "output_type": "stream",
     "text": [
      "region            int64\n",
      "education         int64\n",
      "jobtype           int64\n",
      "cptype            int64\n",
      "sales           float64\n",
      "employees       float64\n",
      "aversalary      float64\n",
      "capital         float64\n",
      "pros_encoded    float64\n",
      "dtype: object\n",
      "\n",
      "Index(['region', 'education', 'jobtype', 'cptype', 'sales', 'employees',\n",
      "       'aversalary', 'capital', 'pros_encoded'],\n",
      "      dtype='object')\n",
      "\n",
      "            region    education      jobtype       cptype         sales  \\\n",
      "count  3015.000000  3015.000000  3015.000000  3015.000000  2.253000e+03   \n",
      "mean      0.764842     0.836153     0.482587     0.670315  3.576065e+06   \n",
      "std       0.808932     1.170736     0.499780     0.817098  9.453942e+06   \n",
      "min       0.000000     0.000000     0.000000     0.000000  0.000000e+00   \n",
      "25%       0.000000     0.000000     0.000000     0.000000  5.941000e+03   \n",
      "50%       1.000000     0.000000     0.000000     0.000000  1.542990e+05   \n",
      "75%       1.000000     2.000000     1.000000     1.000000  1.191101e+06   \n",
      "max       2.000000     5.000000     1.000000     2.000000  1.137600e+08   \n",
      "\n",
      "          employees   aversalary       capital  pros_encoded  \n",
      "count   2482.000000  2149.000000  2.303000e+03   3015.000000  \n",
      "mean    1907.853344    45.543974  1.110866e+06     13.060365  \n",
      "std     4576.151620    17.256245  7.187045e+06     12.198113  \n",
      "min        0.000000     1.000000  0.000000e+00      0.000000  \n",
      "25%       31.000000    35.000000  2.860000e+02      3.000000  \n",
      "50%      300.000000    42.000000  5.000000e+03     10.000000  \n",
      "75%     1465.250000    58.000000  4.453400e+04     23.000000  \n",
      "max    35856.000000    97.000000  2.640000e+08     66.000000  \n"
     ]
    }
   ],
   "source": [
    "df = pd.read_csv('data_beforeScaling.csv', encoding='utf-8-sig', index_col=0)\n",
    "print(df.dtypes)\n",
    "print()\n",
    "print(df.columns[:])\n",
    "print()\n",
    "print(df.describe())"
   ]
  },
  {
   "cell_type": "code",
   "execution_count": null,
   "metadata": {},
   "outputs": [],
   "source": [
    "scaler = StandardScaler()\n",
    "\n",
    "df.loc[:, 'sales': 'pros_encoded'] = scaler.fit_transform(df.loc[:, 'sales': 'pros_encoded'])\n",
    "df = df.round(4)"
   ]
  },
  {
   "cell_type": "code",
   "execution_count": null,
   "metadata": {},
   "outputs": [],
   "source": [
    "scaler = MinMaxScaler()\n",
    "\n",
    "df.loc[:, 'sales': 'pros_encoded'] = scaler.fit_transform(df.loc[:, 'sales': 'pros_encoded'])\n",
    "df = df.round(4)"
   ]
  },
  {
   "cell_type": "code",
   "execution_count": 6,
   "metadata": {},
   "outputs": [
    {
     "name": "stdout",
     "output_type": "stream",
     "text": [
      "            region    education      jobtype       cptype        sales  \\\n",
      "count  3015.000000  3015.000000  3015.000000  3015.000000  2253.000000   \n",
      "mean      0.764842     0.836153     0.482587     0.670315     2.887175   \n",
      "std       0.808932     1.170736     0.499780     0.817098     7.976932   \n",
      "min       0.000000     0.000000     0.000000     0.000000    -0.130200   \n",
      "25%       0.000000     0.000000     0.000000     0.000000    -0.125200   \n",
      "50%       1.000000     0.000000     0.000000     0.000000     0.000000   \n",
      "75%       1.000000     2.000000     1.000000     1.000000     0.874800   \n",
      "max       2.000000     5.000000     1.000000     2.000000    95.856900   \n",
      "\n",
      "         employees   aversalary      capital  pros_encoded  \n",
      "count  2482.000000  2149.000000  2303.000000   3015.000000  \n",
      "mean      1.121039     0.154087    24.992462      0.153018  \n",
      "std       3.190629     0.750271   162.426437      0.609906  \n",
      "min      -0.209200    -1.782600    -0.113000     -0.500000  \n",
      "25%      -0.187600    -0.304300    -0.106550     -0.350000  \n",
      "50%       0.000000     0.000000     0.000000      0.000000  \n",
      "75%       0.812475     0.695700     0.893500      0.650000  \n",
      "max      24.790700     2.391300  5966.258400      2.800000  \n"
     ]
    }
   ],
   "source": [
    "scaler = RobustScaler()\n",
    "\n",
    "df.loc[:, 'sales': 'pros_encoded'] = scaler.fit_transform(df.loc[:, 'sales': 'pros_encoded'])\n",
    "df = df.round(4)\n",
    "\n",
    "print(df.describe())"
   ]
  },
  {
   "cell_type": "code",
   "execution_count": 7,
   "metadata": {},
   "outputs": [
    {
     "name": "stdout",
     "output_type": "stream",
     "text": [
      "            region    education      jobtype       cptype        sales  \\\n",
      "count  3015.000000  3015.000000  3015.000000  3015.000000  2253.000000   \n",
      "mean      0.764842     0.836153     0.482587     0.670315     1.609243   \n",
      "std       0.808932     1.170736     0.499780     0.817098     3.502903   \n",
      "min       0.000000     0.000000     0.000000     0.000000    -0.130200   \n",
      "25%       0.000000     0.000000     0.000000     0.000000    -0.125200   \n",
      "50%       1.000000     0.000000     0.000000     0.000000     0.000000   \n",
      "75%       1.000000     2.000000     1.000000     1.000000     0.874800   \n",
      "max       2.000000     5.000000     1.000000     2.000000    11.933775   \n",
      "\n",
      "         employees   aversalary      capital  pros_encoded  \n",
      "count  2482.000000  2149.000000  2303.000000   3015.000000  \n",
      "mean      0.972960     0.154087     1.615437      0.153018  \n",
      "std       2.423187     0.750271     3.639170      0.609906  \n",
      "min      -0.209200    -1.782600    -0.113000     -0.500000  \n",
      "25%      -0.187600    -0.304300    -0.106550     -0.350000  \n",
      "50%       0.000000     0.000000     0.000000      0.000000  \n",
      "75%       0.812475     0.695700     0.893500      0.650000  \n",
      "max      11.169989     2.391300    13.774974      2.800000  \n"
     ]
    }
   ],
   "source": [
    "# Robust Scaling 이후로도 절댓값이 10보다 큰 값들에 대해 크기 조정\n",
    "def log_transform(x):\n",
    "    if x == 0:\n",
    "        return 0\n",
    "    elif x > 10:\n",
    "        return 10 + np.log10(x-10)\n",
    "    elif x < -10:\n",
    "        return -1 * np.log(abs(x) - 10)\n",
    "    else:\n",
    "        return x\n",
    "\n",
    "df.loc[:, 'sales': 'pros_encoded'] = df.loc[:, 'sales': 'pros_encoded'].map(log_transform)\n",
    "\n",
    "print(df.describe())"
   ]
  },
  {
   "cell_type": "code",
   "execution_count": 8,
   "metadata": {},
   "outputs": [],
   "source": [
    "df.to_csv('data.csv', encoding='utf-8-sig')"
   ]
  },
  {
   "cell_type": "code",
   "execution_count": null,
   "metadata": {},
   "outputs": [],
   "source": []
  }
 ],
 "metadata": {
  "kernelspec": {
   "display_name": "myvenv",
   "language": "python",
   "name": "python3"
  },
  "language_info": {
   "codemirror_mode": {
    "name": "ipython",
    "version": 3
   },
   "file_extension": ".py",
   "mimetype": "text/x-python",
   "name": "python",
   "nbconvert_exporter": "python",
   "pygments_lexer": "ipython3",
   "version": "3.11.7"
  }
 },
 "nbformat": 4,
 "nbformat_minor": 2
}

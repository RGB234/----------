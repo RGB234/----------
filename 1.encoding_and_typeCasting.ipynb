{
 "cells": [
  {
   "cell_type": "code",
   "execution_count": null,
   "metadata": {},
   "outputs": [],
   "source": [
    "import re\n",
    "import pandas as pd\n",
    "import numpy as np"
   ]
  },
  {
   "cell_type": "markdown",
   "metadata": {},
   "source": [
    "### 데이터 피쳐 설명\n",
    "    \n",
    "    \"region\", # 지역\n",
    "    \"cpname\", # 회사이름\n",
    "    \"title\", # 구인공고 제목\n",
    "    \"career\", # 요구 경력\n",
    "    \"education\", # 요구 학력\n",
    "    \"jobtype\", # 고용 형태 (정규직, 비정규직, ...)\n",
    "    \"cptype\", # 회사 규모 형태 (대기업, 중견, 중소, ...)\n",
    "    \"sales\", # 회사 연매출\n",
    "    \"employees\", # 회사 근무 직원 수 \n",
    "    \"aversalary\", # 회사 근무 직원 평균 연봉\n",
    "    \"capital\", # 회사 자본금\n",
    "    \"pros\", # 인크루트에 등록된 '입사지원하면 좋은 이유' 들"
   ]
  },
  {
   "cell_type": "code",
   "execution_count": null,
   "metadata": {},
   "outputs": [],
   "source": [
    "# 17개 지역\n",
    "regions = {\n",
    "    \"11\": \"서울\",\n",
    "    \"12\": \"부산\",\n",
    "    \"14\": \"인천\",\n",
    "    \"16\": \"대전\",\n",
    "    \"15\": \"광주\",\n",
    "    \"13\": \"대구\",\n",
    "    \"17\": \"울산\",\n",
    "    \"27\": \"세종\",\n",
    "    \"18\": \"경기\",\n",
    "    \"19\": \"강원특별자치도\",\n",
    "    \"20\": \"충북\",\n",
    "    \"21\": \"충남\",\n",
    "    \"22\": \"전북특별자치도\",\n",
    "    \"23\": \"전남\",\n",
    "    \"24\": \"경북\",\n",
    "    \"25\": \"경남\",\n",
    "    \"26\": \"제주\",\n",
    "}\n",
    "\n",
    "\n",
    "# 수도권 : 서울, 인천, 세종, 경기\n",
    "# 수도권 외 광역시: 부산, 대구, 광주, 대전, 울산\n",
    "# 그 외 지방: 강원, 충북, 충남, 전북, 전남, 경북, 경남, 제주\n",
    "\n",
    "features = [\n",
    "    \"region\", # 지역\n",
    "    \"cpname\", # 회사이름\n",
    "    \"title\", # 구인공고 제목\n",
    "    \"career\", # 요구 경력\n",
    "    \"education\", # 요구 학력\n",
    "    \"jobtype\", # 고용 형태 (정규직, 비정규직, ...)\n",
    "    \"cptype\", # 회사 규모 형태 (대기업, 중견, 중소, ...)\n",
    "    \"sales\", # 회사 연매출\n",
    "    \"employees\", # 회사 근무 직원 수 \n",
    "    \"aversalary\", # 회사 근무 직원 평균 연봉\n",
    "    \"capital\", # 회사 자본금\n",
    "    \"pros\", # 인크루트에 등록된 '입사지원하면 좋은 이유' 들\n",
    "]\n",
    "df = pd.DataFrame(columns=features)\n",
    "\n",
    "for region in regions.values():\n",
    "    df_subset = pd.read_csv(f\"sample data/raw_data_{region}.csv\", index_col=0)\n",
    "    df = pd.concat([df, df_subset])\n",
    "\n",
    "df = df.reset_index(drop=True)\n",
    "\n",
    "df.to_csv(\"raw_data.csv\", encoding=\"utf-8-sig\")"
   ]
  },
  {
   "cell_type": "code",
   "execution_count": null,
   "metadata": {},
   "outputs": [],
   "source": [
    "df = pd.read_csv('raw_data.csv', encoding='utf-8-sig', index_col=0)"
   ]
  },
  {
   "cell_type": "code",
   "execution_count": null,
   "metadata": {},
   "outputs": [],
   "source": [
    "df.drop('cpname', axis=1, inplace=True)\n",
    "df.drop('title', axis=1, inplace=True)\n",
    "# 'career' 항목은 데이터 크롤링 과정에서 신입/연차 무관 으로 사전에 필터링 되었으므로 필요없다.\n",
    "df.drop('career', axis=1, inplace=True)\n",
    "df.head()"
   ]
  },
  {
   "cell_type": "code",
   "execution_count": null,
   "metadata": {},
   "outputs": [],
   "source": [
    "print(df['education'].value_counts())\n",
    "print(df['jobtype'].value_counts())\n",
    "print(df['cptype'].value_counts())"
   ]
  },
  {
   "cell_type": "markdown",
   "metadata": {},
   "source": [
    "### 인코딩\n",
    "\n",
    "범주에 따라 다른 점수를 부여하고 싶어서 범주형 데이터에 대해 수동으로 라벨 인코딩 수행  "
   ]
  },
  {
   "cell_type": "code",
   "execution_count": null,
   "metadata": {},
   "outputs": [],
   "source": [
    "df['education'] = df['education'].replace({\n",
    "    '학력무관': 0,\n",
    "    '고졸': 1,\n",
    "    '고졸이상': 1,\n",
    "    '초대졸' : 2,\n",
    "    '초대졸이상': 2,\n",
    "    '대졸': 3,\n",
    "    '대졸이상': 3,\n",
    "    '석사' : 4,\n",
    "    '석사이상' : 4,\n",
    "    '박사' : 5,\n",
    "    '박사이상' : 5\n",
    "},)\n",
    "\n",
    "def encode_cptype(x : str):\n",
    "    if x == '대기업':\n",
    "        return 2\n",
    "    elif x == '중견기업':\n",
    "        return 1\n",
    "    else:\n",
    "        return 0\n",
    "    \n",
    "\n",
    "df['jobtype'] = df['jobtype'].map(lambda x : 1 if x == '정규직' else 0)\n",
    "\n",
    "df['cptype'] = df['cptype'].map(encode_cptype)"
   ]
  },
  {
   "cell_type": "code",
   "execution_count": null,
   "metadata": {},
   "outputs": [],
   "source": [
    "print(df['education'].value_counts())\n",
    "print(df['jobtype'].value_counts())\n",
    "print(df['cptype'].value_counts())\n",
    "df.head()"
   ]
  },
  {
   "cell_type": "markdown",
   "metadata": {},
   "source": [
    "### 인코딩 \n",
    "수집한 지역을 {수도권, 비수도권 광역시, 그 외 지방} 중 하나로 분류 및 숫자값으로 라벨 인코딩  "
   ]
  },
  {
   "cell_type": "code",
   "execution_count": null,
   "metadata": {},
   "outputs": [],
   "source": [
    "# 수도권 : 서울, 인천, 세종, 경기\n",
    "# 수도권 외 광역시: 부산, 대구, 광주, 대전, 울산\n",
    "# 그 외 지방: 강원, 충북, 충남, 전북, 전남, 경북, 경남, 제주\n",
    "\n",
    "def encode_region(x : str):\n",
    "    if x == '서울' or x =='인천' or x =='세종' or x =='경기':\n",
    "        return 2\n",
    "    elif x == '부산' or x == '대구'or x == '광주'or x =='대전' or x =='울산':\n",
    "        return 1\n",
    "    else:\n",
    "        return 0\n",
    "    \n",
    "\n",
    "df['region'] = df['region'].map(encode_region)"
   ]
  },
  {
   "cell_type": "code",
   "execution_count": null,
   "metadata": {},
   "outputs": [],
   "source": [
    "print(df['region'].value_counts())"
   ]
  },
  {
   "cell_type": "markdown",
   "metadata": {},
   "source": [
    "### 인코딩  \n",
    "'pros' 피쳐는 문자열 값이므로 이에 대한 처리 수행\n",
    "\n",
    "'pros' 값을 점수로 변환하여 'pros_encoded' 피쳐로 변환하여 처리  \n",
    "이에 대한 점수 기준표는 tags_encoded.csv 파일에 등록.  \n",
    "점수로 변환하기 이전 'pros' 문자열 값들은 tags.csv 파일에 등록되어있다.  \n",
    "\n",
    "'매출 1000대 기업', '대기업', 'KOSPI 상장' 등 객관적인 평가지표가 반영된 항목이면서 기업역량이 우수함을 쉽게 판단할 수 있는 항목에 주로 5점,\n",
    "'육아휴직 제공', '자기 계발비 지원' 등 해당 항목이 부여된 기준을 알기 어렵고, 사실을 검증하기 어려운 항목들에 대해서는 1점을 주는 식으로 평가하였다."
   ]
  },
  {
   "cell_type": "code",
   "execution_count": null,
   "metadata": {},
   "outputs": [],
   "source": [
    "tags_encoded = pd.read_csv('tags_encoded.csv', encoding='utf-8-sig', index_col=0)\n",
    "# tags_encoded.head()\n",
    "tags_score = dict(zip(tags_encoded['tags'], tags_encoded['score']))\n",
    "tags_score"
   ]
  },
  {
   "cell_type": "code",
   "execution_count": null,
   "metadata": {},
   "outputs": [],
   "source": [
    "def encodeTagsByScore(tags: str):\n",
    "    if isinstance(tags, float): return tags\n",
    "    total_score = 0\n",
    "    for tag in tags.split('-'):\n",
    "        if tag !=  '':\n",
    "            total_score += tags_score[tag]\n",
    "    return total_score\n",
    "\n",
    "df['pros_encoded'] = df['pros'].apply(encodeTagsByScore)\n",
    "df['pros_encoded']"
   ]
  },
  {
   "cell_type": "markdown",
   "metadata": {},
   "source": [
    "### 데이터 형변환  \n",
    "문자열 값으로 수집된 데이터 실수형 데이터로 변환  "
   ]
  },
  {
   "cell_type": "code",
   "execution_count": null,
   "metadata": {},
   "outputs": [],
   "source": [
    "# 띄어쓰기, 콤마(',') 제거\n",
    "for col in ['sales', 'aversalary', 'capital', 'employees']:\n",
    "    df[col] = df[col].map(lambda x : x[:x.rfind('(')] if x.rfind('(') != -1 else x)\n",
    "    df[col] = df[col].str.replace(',', '')\n",
    "    df[col] = df[col].str.replace(' ', '')\n",
    "    \n",
    "\n",
    "# 빈 값이라면 '-' 으로 대체\n",
    "df['sales'] = df['sales'].apply(lambda x : x if x != '' else '-')\n",
    "df['aversalary'] = df['aversalary'].str.replace('\\n자세히보기', '')\n",
    "df['employees'] = df['employees'].map(lambda x : x[:x.rfind('명')])"
   ]
  },
  {
   "cell_type": "code",
   "execution_count": null,
   "metadata": {},
   "outputs": [],
   "source": [
    "nullable_features = ['sales',\t'employees',\t'aversalary',\t'capital']\n",
    "\n",
    "# '-' 값들 모두 np.nan 로 변경\n",
    "for nullable_feature in nullable_features:\n",
    "    # 값이 음수 (sales : - 15억 3,272만원 (2023) ) 인 경우도 있으므로 replace 함수가 아닌 map 함수 사용\n",
    "    df[nullable_feature] = df[nullable_feature].map(lambda x : np.nan if x == '-' else x)\n",
    "\n",
    "# np.nan 값 0 으로 변경\n",
    "df['pros_encoded'] = df['pros_encoded'].replace(np.nan, 0)\n",
    "\n",
    "# np.nan 값을 제외하고 float 로 형변환. (np.nan 는 float)\n",
    "# 5월 4일 기준으로 수정(line 242)했지만, 수정 이전에는 crawling.py 파일에서 employees 의 결측값을 empty string 으로 저장\n",
    "# 이미 크롤링한 raw_data.csv 파일 기준으로는 바로 아래 코드가 필요\n",
    "df['employees'] = df['employees'].map(lambda x: float(x) if x != '' else np.nan)\n",
    "# 수정된 버전\n",
    "# df['employees'] = df['employees'].map(lambda x: float(x))\n",
    "\n",
    "print(df['sales'].isna().sum())\n",
    "print(df['employees'].isna().sum())\n",
    "print(df['aversalary'].isna().sum())\n",
    "print(df['capital'].isna().sum())\n",
    "print(df['pros_encoded'].isna().sum())\n",
    "\n",
    "print(df.dtypes)\n",
    "print(type(df['sales'][0]))\n",
    "print(type(df['aversalary'][0]))\n",
    "print(type(df['capital'][0]))\n",
    "\n",
    "df.head()"
   ]
  },
  {
   "cell_type": "code",
   "execution_count": null,
   "metadata": {},
   "outputs": [],
   "source": [
    "def convertFromStr(input):\n",
    "    # 단위 : 백만원\n",
    "    # 띄어쓰기가 없다고 전제\n",
    "    # input = input.replace(' ', '')\n",
    "    # input : str or np.nan\n",
    "    # type(np.nan) == float\n",
    "    if type(input) != str: return input\n",
    "    p = re.compile('(\\d{1,4}조)?(\\d{1,4}억)?(\\d{1,4}만)?원')\n",
    "    match = p.search(input)\n",
    "    if (match is None) : \n",
    "        print(input) # '-'\n",
    "        return input\n",
    "        \n",
    "    value = 0\n",
    "    for group in match.groups():\n",
    "        if group is None: # 마지막 group 은 None\n",
    "            continue\n",
    "        elif group[-1] == '조':\n",
    "            value += int(group[:-1]) * 1000000\n",
    "        elif group[-1] == '억':\n",
    "            value += int(group[:-1]) * 100\n",
    "        elif group[-1] == '만':\n",
    "            value += int(group[:-1]) // 100\n",
    "        else: \n",
    "            continue\n",
    "    return value\n",
    "\n",
    "for col in ['sales', 'aversalary', 'capital', 'capital']:\n",
    "    # 단위 : 백만원\n",
    "    df[col] = df[col].map(convertFromStr)"
   ]
  },
  {
   "cell_type": "code",
   "execution_count": null,
   "metadata": {},
   "outputs": [],
   "source": [
    "df.drop('pros', axis=1, inplace=True)\n",
    "print(df.dtypes)\n",
    "df.head()"
   ]
  },
  {
   "cell_type": "code",
   "execution_count": null,
   "metadata": {},
   "outputs": [],
   "source": [
    "# 피쳐 스케일링 이전 값 저장\n",
    "df.to_csv('data_beforeScaling.csv', encoding='utf-8-sig')"
   ]
  }
 ],
 "metadata": {
  "kernelspec": {
   "display_name": "myvenv",
   "language": "python",
   "name": "python3"
  },
  "language_info": {
   "codemirror_mode": {
    "name": "ipython",
    "version": 3
   },
   "file_extension": ".py",
   "mimetype": "text/x-python",
   "name": "python",
   "nbconvert_exporter": "python",
   "pygments_lexer": "ipython3",
   "version": "3.11.7"
  }
 },
 "nbformat": 4,
 "nbformat_minor": 2
}

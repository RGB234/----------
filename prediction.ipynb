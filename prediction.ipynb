{
 "cells": [
  {
   "cell_type": "code",
   "execution_count": 79,
   "metadata": {},
   "outputs": [],
   "source": [
    "import numpy as np\n",
    "import pandas as pd\n",
    "from sklearn.ensemble import GradientBoostingClassifier\n",
    "from sklearn.linear_model import Lasso\n",
    "from sklearn.model_selection import train_test_split\n",
    "import statsmodels.api as sm\n",
    "from statsmodels.stats.outliers_influence import variance_inflation_factor\n",
    "from sklearn.metrics import mean_absolute_error\n",
    "# import seaborn as sns \n"
   ]
  },
  {
   "cell_type": "code",
   "execution_count": 80,
   "metadata": {},
   "outputs": [],
   "source": [
    "df = pd.read_csv('data.csv', encoding='utf-8-sig', index_col=0)"
   ]
  },
  {
   "cell_type": "code",
   "execution_count": 81,
   "metadata": {},
   "outputs": [
    {
     "name": "stdout",
     "output_type": "stream",
     "text": [
      "region            int64\n",
      "education         int64\n",
      "jobtype           int64\n",
      "cptype            int64\n",
      "sales           float64\n",
      "employees       float64\n",
      "aversalary      float64\n",
      "capital         float64\n",
      "pros_encoded    float64\n",
      "dtype: object\n"
     ]
    },
    {
     "data": {
      "text/html": [
       "<div>\n",
       "<style scoped>\n",
       "    .dataframe tbody tr th:only-of-type {\n",
       "        vertical-align: middle;\n",
       "    }\n",
       "\n",
       "    .dataframe tbody tr th {\n",
       "        vertical-align: top;\n",
       "    }\n",
       "\n",
       "    .dataframe thead th {\n",
       "        text-align: right;\n",
       "    }\n",
       "</style>\n",
       "<table border=\"1\" class=\"dataframe\">\n",
       "  <thead>\n",
       "    <tr style=\"text-align: right;\">\n",
       "      <th></th>\n",
       "      <th>region</th>\n",
       "      <th>education</th>\n",
       "      <th>jobtype</th>\n",
       "      <th>cptype</th>\n",
       "      <th>sales</th>\n",
       "      <th>employees</th>\n",
       "      <th>aversalary</th>\n",
       "      <th>capital</th>\n",
       "      <th>pros_encoded</th>\n",
       "    </tr>\n",
       "  </thead>\n",
       "  <tbody>\n",
       "    <tr>\n",
       "      <th>count</th>\n",
       "      <td>3015.000000</td>\n",
       "      <td>3015.000000</td>\n",
       "      <td>3015.000000</td>\n",
       "      <td>3015.000000</td>\n",
       "      <td>2253.000000</td>\n",
       "      <td>2482.000000</td>\n",
       "      <td>2149.000000</td>\n",
       "      <td>2303.000000</td>\n",
       "      <td>3015.000000</td>\n",
       "    </tr>\n",
       "    <tr>\n",
       "      <th>mean</th>\n",
       "      <td>0.764842</td>\n",
       "      <td>0.836153</td>\n",
       "      <td>0.482587</td>\n",
       "      <td>0.670315</td>\n",
       "      <td>2.887175</td>\n",
       "      <td>1.121039</td>\n",
       "      <td>0.154087</td>\n",
       "      <td>24.992462</td>\n",
       "      <td>0.153018</td>\n",
       "    </tr>\n",
       "    <tr>\n",
       "      <th>std</th>\n",
       "      <td>0.808932</td>\n",
       "      <td>1.170736</td>\n",
       "      <td>0.499780</td>\n",
       "      <td>0.817098</td>\n",
       "      <td>7.976932</td>\n",
       "      <td>3.190629</td>\n",
       "      <td>0.750271</td>\n",
       "      <td>162.426437</td>\n",
       "      <td>0.609906</td>\n",
       "    </tr>\n",
       "    <tr>\n",
       "      <th>min</th>\n",
       "      <td>0.000000</td>\n",
       "      <td>0.000000</td>\n",
       "      <td>0.000000</td>\n",
       "      <td>0.000000</td>\n",
       "      <td>-0.130200</td>\n",
       "      <td>-0.209200</td>\n",
       "      <td>-1.782600</td>\n",
       "      <td>-0.113000</td>\n",
       "      <td>-0.500000</td>\n",
       "    </tr>\n",
       "    <tr>\n",
       "      <th>25%</th>\n",
       "      <td>0.000000</td>\n",
       "      <td>0.000000</td>\n",
       "      <td>0.000000</td>\n",
       "      <td>0.000000</td>\n",
       "      <td>-0.125200</td>\n",
       "      <td>-0.187600</td>\n",
       "      <td>-0.304300</td>\n",
       "      <td>-0.106550</td>\n",
       "      <td>-0.350000</td>\n",
       "    </tr>\n",
       "    <tr>\n",
       "      <th>50%</th>\n",
       "      <td>1.000000</td>\n",
       "      <td>0.000000</td>\n",
       "      <td>0.000000</td>\n",
       "      <td>0.000000</td>\n",
       "      <td>0.000000</td>\n",
       "      <td>0.000000</td>\n",
       "      <td>0.000000</td>\n",
       "      <td>0.000000</td>\n",
       "      <td>0.000000</td>\n",
       "    </tr>\n",
       "    <tr>\n",
       "      <th>75%</th>\n",
       "      <td>1.000000</td>\n",
       "      <td>2.000000</td>\n",
       "      <td>1.000000</td>\n",
       "      <td>1.000000</td>\n",
       "      <td>0.874800</td>\n",
       "      <td>0.812475</td>\n",
       "      <td>0.695700</td>\n",
       "      <td>0.893500</td>\n",
       "      <td>0.650000</td>\n",
       "    </tr>\n",
       "    <tr>\n",
       "      <th>max</th>\n",
       "      <td>2.000000</td>\n",
       "      <td>5.000000</td>\n",
       "      <td>1.000000</td>\n",
       "      <td>2.000000</td>\n",
       "      <td>95.856900</td>\n",
       "      <td>24.790700</td>\n",
       "      <td>2.391300</td>\n",
       "      <td>5966.258400</td>\n",
       "      <td>2.800000</td>\n",
       "    </tr>\n",
       "  </tbody>\n",
       "</table>\n",
       "</div>"
      ],
      "text/plain": [
       "            region    education      jobtype       cptype        sales  \\\n",
       "count  3015.000000  3015.000000  3015.000000  3015.000000  2253.000000   \n",
       "mean      0.764842     0.836153     0.482587     0.670315     2.887175   \n",
       "std       0.808932     1.170736     0.499780     0.817098     7.976932   \n",
       "min       0.000000     0.000000     0.000000     0.000000    -0.130200   \n",
       "25%       0.000000     0.000000     0.000000     0.000000    -0.125200   \n",
       "50%       1.000000     0.000000     0.000000     0.000000     0.000000   \n",
       "75%       1.000000     2.000000     1.000000     1.000000     0.874800   \n",
       "max       2.000000     5.000000     1.000000     2.000000    95.856900   \n",
       "\n",
       "         employees   aversalary      capital  pros_encoded  \n",
       "count  2482.000000  2149.000000  2303.000000   3015.000000  \n",
       "mean      1.121039     0.154087    24.992462      0.153018  \n",
       "std       3.190629     0.750271   162.426437      0.609906  \n",
       "min      -0.209200    -1.782600    -0.113000     -0.500000  \n",
       "25%      -0.187600    -0.304300    -0.106550     -0.350000  \n",
       "50%       0.000000     0.000000     0.000000      0.000000  \n",
       "75%       0.812475     0.695700     0.893500      0.650000  \n",
       "max      24.790700     2.391300  5966.258400      2.800000  "
      ]
     },
     "execution_count": 81,
     "metadata": {},
     "output_type": "execute_result"
    }
   ],
   "source": [
    "print(df.dtypes)\n",
    "df.describe()"
   ]
  },
  {
   "cell_type": "code",
   "execution_count": null,
   "metadata": {},
   "outputs": [],
   "source": []
  },
  {
   "cell_type": "markdown",
   "metadata": {},
   "source": [
    "### VIF 확인 & Lasso 모델을 통한 feature selection"
   ]
  },
  {
   "cell_type": "code",
   "execution_count": 82,
   "metadata": {},
   "outputs": [
    {
     "name": "stdout",
     "output_type": "stream",
     "text": [
      "[0.         0.         0.         0.00197754 0.01219089 0.\n",
      " 0.00697038 0.        ]\n",
      "MAE (train set):  0.7305\n",
      "MAE:  0.7509\n",
      "1.7492\n",
      "1.6546\n",
      "3.0912\n",
      "3.7792\n",
      "3.7302\n",
      "1.5755\n",
      "2.4854\n",
      "2.286\n"
     ]
    }
   ],
   "source": [
    "# NaN 처리\n",
    "df_droppped_na = df.dropna()\n",
    "X = df_droppped_na.iloc[:, 1:]\n",
    "y = df_droppped_na['region']\n",
    "\n",
    "X_train, X_test, y_train, y_test = train_test_split(X, y, test_size=0.2, random_state=747)\n",
    "\n",
    "linear = Lasso(alpha=0.2)\n",
    "linear.fit(X_train, y_train)\n",
    "\n",
    "# feature selection -> sales, employees, capital\n",
    "print(linear.coef_)\n",
    "\n",
    "print(\"MAE (train set): \", np.round(mean_absolute_error(linear.predict(X_train), y_train), 4))\n",
    "print(\"MAE: \", np.round(mean_absolute_error(linear.predict(X_test), y_test), 4))\n",
    "\n",
    "for feature in range(len(df.columns[1:])):\n",
    "    print(np.round(variance_inflation_factor(X_train, feature), 4))"
   ]
  },
  {
   "cell_type": "code",
   "execution_count": 105,
   "metadata": {},
   "outputs": [
    {
     "name": "stdout",
     "output_type": "stream",
     "text": [
      "region\n",
      "0    780\n",
      "1    440\n",
      "2    432\n",
      "Name: count, dtype: int64\n",
      "0.4773\n"
     ]
    }
   ],
   "source": [
    "df_droppped_na = df.dropna()\n",
    "\n",
    "print(df_droppped_na['region'].value_counts())\n",
    "\n",
    "X = df_droppped_na.iloc[:, 1:]\n",
    "y = df_droppped_na['region']\n",
    "\n",
    "X_train, X_test, y_train, y_test = train_test_split(X, y, test_size=0.2, random_state=747)\n",
    "\n",
    "clf = GradientBoostingClassifier(n_estimators=100, \n",
    "                                 learning_rate=0.2, \n",
    "                                 max_depth=1, \n",
    "                                 random_state=505).fit(X_train, y_train)\n",
    "print(np.round(clf.score(X_test, y_test), 4))"
   ]
  },
  {
   "cell_type": "markdown",
   "metadata": {},
   "source": [
    "### with feature selected data"
   ]
  },
  {
   "cell_type": "code",
   "execution_count": 104,
   "metadata": {},
   "outputs": [
    {
     "name": "stdout",
     "output_type": "stream",
     "text": [
      "region\n",
      "0    964\n",
      "1    531\n",
      "2    513\n",
      "Name: count, dtype: int64\n",
      "0.5224\n"
     ]
    },
    {
     "data": {
      "text/plain": [
       "{'ccp_alpha': 0.0,\n",
       " 'criterion': 'friedman_mse',\n",
       " 'init': None,\n",
       " 'learning_rate': 0.2,\n",
       " 'loss': 'log_loss',\n",
       " 'max_depth': 1,\n",
       " 'max_features': None,\n",
       " 'max_leaf_nodes': None,\n",
       " 'min_impurity_decrease': 0.0,\n",
       " 'min_samples_leaf': 1,\n",
       " 'min_samples_split': 2,\n",
       " 'min_weight_fraction_leaf': 0.0,\n",
       " 'n_estimators': 100,\n",
       " 'n_iter_no_change': None,\n",
       " 'random_state': 505,\n",
       " 'subsample': 1.0,\n",
       " 'tol': 0.0001,\n",
       " 'validation_fraction': 0.1,\n",
       " 'verbose': 0,\n",
       " 'warm_start': False}"
      ]
     },
     "execution_count": 104,
     "metadata": {},
     "output_type": "execute_result"
    }
   ],
   "source": [
    "df_reduced = df[['region', 'sales', 'employees', 'capital']]\n",
    "df_reduced = df_reduced.dropna()\n",
    "\n",
    "print(df_reduced['region'].value_counts())\n",
    "\n",
    "X = df_reduced.iloc[:, 1:]\n",
    "y = df_reduced['region']\n",
    "\n",
    "X_train, X_test, y_train, y_test = train_test_split(X, y, test_size=0.2, random_state=747)\n",
    "\n",
    "clf = GradientBoostingClassifier(n_estimators=100, \n",
    "                                 learning_rate=0.2, \n",
    "                                 max_depth=1, \n",
    "                                 random_state=505).fit(X_train, y_train)\n",
    "\n",
    "# Return the mean accuracy on the given test data and labels.\n",
    "print(np.round(clf.score(X_test, y_test), 4))\n",
    "clf.get_params()"
   ]
  },
  {
   "cell_type": "markdown",
   "metadata": {},
   "source": [
    "### 할일\n",
    "데이터 불균형 해결한 뒤 다시 학습&점수 확인 -> sklearn.utils.random.sample_without_replacement  \n",
    "nan 값 그대로 둔 채 xgboost 로 학습 & 점수 확인  \n",
    "\n",
    "피쳐 스케일 최대한 얼추 맞춘 다음 클러스터링 하기 -> 로그함수 적용"
   ]
  }
 ],
 "metadata": {
  "kernelspec": {
   "display_name": "myvenv",
   "language": "python",
   "name": "python3"
  },
  "language_info": {
   "codemirror_mode": {
    "name": "ipython",
    "version": 3
   },
   "file_extension": ".py",
   "mimetype": "text/x-python",
   "name": "python",
   "nbconvert_exporter": "python",
   "pygments_lexer": "ipython3",
   "version": "3.11.7"
  }
 },
 "nbformat": 4,
 "nbformat_minor": 2
}
